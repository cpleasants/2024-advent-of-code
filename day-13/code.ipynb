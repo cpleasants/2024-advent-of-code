{
 "cells": [
  {
   "cell_type": "code",
   "execution_count": 90,
   "metadata": {},
   "outputs": [],
   "source": [
    "from copy import deepcopy"
   ]
  },
  {
   "cell_type": "code",
   "execution_count": 99,
   "metadata": {},
   "outputs": [],
   "source": [
    "def solve_system_of_equations(\n",
    "        A_X, B_X, Prize_X,\n",
    "        A_Y, B_Y, Prize_Y\n",
    "):\n",
    "    # Setting up as a system of equations\n",
    "    if A_Y / A_X == B_Y / B_X == Prize_Y / Prize_X:\n",
    "        return \"Infinite\"\n",
    "    elif A_Y / A_X == B_Y / B_X and A_Y / A_X != Prize_Y / Prize_X:\n",
    "        return \"None\"\n",
    "    # Solve by substitution\n",
    "    else:\n",
    "        y = (Prize_Y * A_X - Prize_X * A_Y) / (A_X * B_Y - A_Y * B_X)\n",
    "        x = (Prize_X - B_X * y) / A_X\n",
    "    return (x, y)\n",
    "\n",
    "\n",
    "class Day13:\n",
    "    def __init__(self, fname):\n",
    "        input = []\n",
    "        with open(fname) as f:\n",
    "            this_input = {}\n",
    "            for line in f.readlines():\n",
    "                if line.strip() == '':\n",
    "                    input.append(this_input)\n",
    "                    this_input = {}\n",
    "                split_line = line.split(':')\n",
    "                if split_line[0] == 'Button A':\n",
    "                    split_a = split_line[1].strip().split(',')\n",
    "                    x = int(split_a[0].split('+')[1])\n",
    "                    y = int(split_a[1].split('+')[1])\n",
    "                    this_input['A'] = (x, y)\n",
    "                if split_line[0] == 'Button B':\n",
    "                    split_b = split_line[1].strip().split(',')\n",
    "                    x = int(split_b[0].split('+')[1])\n",
    "                    y = int(split_b[1].split('+')[1])\n",
    "                    this_input['B'] = (x, y)\n",
    "                if split_line[0] == 'Prize':\n",
    "                    split_reward = split_line[1].strip().split(',')\n",
    "                    x = int(split_reward[0].split('=')[1])\n",
    "                    y = int(split_reward[1].split('=')[1])\n",
    "                    this_input['Prize'] = (x, y)\n",
    "            input.append(this_input)\n",
    "        self.input = input\n",
    "        self.modify_input()\n",
    "\n",
    "    def modify_input(self):\n",
    "        modified_input = deepcopy(self.input)\n",
    "        for input in modified_input:\n",
    "            input['Prize'] = (input['Prize'][0] + 10000000000000, input['Prize'][1] + 10000000000000)\n",
    "        self.modified_input = modified_input\n",
    "\n",
    "    def solve_all(self, modified = False):\n",
    "        total = 0\n",
    "        if not modified:\n",
    "            for game in self.input:\n",
    "                solution = solve_system_of_equations(\n",
    "                    game[\"A\"][0], game[\"B\"][0], game[\"Prize\"][0],\n",
    "                    game[\"A\"][1], game[\"B\"][1], game[\"Prize\"][1]\n",
    "                )\n",
    "                if solution == \"Infinte\":\n",
    "                    print(game)\n",
    "                elif solution == \"None\":\n",
    "                    continue\n",
    "                else:\n",
    "                    x = solution[0]\n",
    "                    y = solution[1]\n",
    "                    if not (abs(int(x) - x) <= 0E6 and abs(int(y) - y) <= 0E6):\n",
    "                        continue\n",
    "                    total += 3*x + y\n",
    "            return total\n",
    "        else:\n",
    "            for game in self.modified_input:\n",
    "                solution = solve_system_of_equations(\n",
    "                    game[\"A\"][0], game[\"B\"][0], game[\"Prize\"][0],\n",
    "                    game[\"A\"][1], game[\"B\"][1], game[\"Prize\"][1]\n",
    "                )\n",
    "                if solution == \"Infinte\":\n",
    "                    print(game)\n",
    "                elif solution == \"None\":\n",
    "                    continue\n",
    "                else:\n",
    "                    x = solution[0]\n",
    "                    y = solution[1]\n",
    "                    if not (abs(int(x) - x) <= 0E6 and abs(int(y) - y) <= 0E6):\n",
    "                        continue\n",
    "                    total += 3*x + y\n",
    "            return total\n"
   ]
  },
  {
   "cell_type": "code",
   "execution_count": 96,
   "metadata": {},
   "outputs": [
    {
     "name": "stdout",
     "output_type": "stream",
     "text": [
      "480.0\n",
      "875318608908.0\n"
     ]
    }
   ],
   "source": [
    "day13_test = Day13('data/test.txt')\n",
    "print(day13_test.solve_all())\n",
    "print(day13_test.solve_all(modified = True))"
   ]
  },
  {
   "cell_type": "code",
   "execution_count": 97,
   "metadata": {},
   "outputs": [
    {
     "name": "stdout",
     "output_type": "stream",
     "text": [
      "33921.0\n",
      "82261957837868.0\n"
     ]
    }
   ],
   "source": [
    "day13 = Day13('data/input.txt')\n",
    "print(day13.solve_all())\n",
    "print(day13.solve_all(modified=True))"
   ]
  }
 ],
 "metadata": {
  "kernelspec": {
   "display_name": "Python 3",
   "language": "python",
   "name": "python3"
  },
  "language_info": {
   "codemirror_mode": {
    "name": "ipython",
    "version": 3
   },
   "file_extension": ".py",
   "mimetype": "text/x-python",
   "name": "python",
   "nbconvert_exporter": "python",
   "pygments_lexer": "ipython3",
   "version": "3.9.6"
  }
 },
 "nbformat": 4,
 "nbformat_minor": 2
}
