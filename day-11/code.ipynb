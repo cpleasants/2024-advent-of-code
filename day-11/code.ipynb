{
 "cells": [
  {
   "cell_type": "code",
   "execution_count": 126,
   "metadata": {},
   "outputs": [],
   "source": [
    "from copy import deepcopy"
   ]
  },
  {
   "cell_type": "code",
   "execution_count": 127,
   "metadata": {},
   "outputs": [],
   "source": [
    "class Day11:\n",
    "    def __init__(self, fname):\n",
    "        with open(fname) as f:\n",
    "            self.input = [int(num) for num in f.read().strip().split(' ')]\n",
    "        self.current_stones = self.input\n",
    "        self.create_current_stones_dict()\n",
    "\n",
    "    def create_current_stones_dict(self):\n",
    "        self.current_stones_dict = {}\n",
    "        for item in self.current_stones:\n",
    "            if item in self.current_stones_dict:\n",
    "                self.current_stones_dict[item] += 1\n",
    "            else:\n",
    "                self.current_stones_dict[item] = 1\n",
    "\n",
    "    def even_num_digits(self, stone_in):\n",
    "        stone_str = str(stone_in)\n",
    "        length = len(stone_str)\n",
    "        stones_out = [int(stone_str[ : int(length/2)]), int(stone_str[int(length/2) : ])]\n",
    "        return stones_out\n",
    "\n",
    "    def blink(self):\n",
    "        new_stones_dict = {}\n",
    "        for stone, ct in self.current_stones_dict.items():\n",
    "            if stone == 0:\n",
    "                if 1 in new_stones_dict:\n",
    "                    new_stones_dict[1] += ct\n",
    "                else:\n",
    "                    new_stones_dict[1] = ct\n",
    "            elif len(str(stone)) % 2 == 0:\n",
    "                new_stones = self.even_num_digits(stone)\n",
    "                for nstone in new_stones:\n",
    "                    if nstone in new_stones_dict:\n",
    "                        new_stones_dict[nstone] += ct\n",
    "                    else:\n",
    "                        new_stones_dict[nstone] = ct\n",
    "            else:\n",
    "                if stone * 2024 in new_stones_dict:\n",
    "                    new_stones_dict[stone * 2024] += ct\n",
    "                else:\n",
    "                    new_stones_dict[stone * 2024] = ct\n",
    "        self.current_stones_dict = deepcopy(new_stones_dict)\n",
    "\n",
    "    def blink_x_times(self, x):\n",
    "        for i in range(x):\n",
    "            self.blink()\n",
    "        return sum(self.current_stones_dict.values())"
   ]
  },
  {
   "cell_type": "code",
   "execution_count": 128,
   "metadata": {},
   "outputs": [
    {
     "data": {
      "text/plain": [
       "55312"
      ]
     },
     "execution_count": 128,
     "metadata": {},
     "output_type": "execute_result"
    }
   ],
   "source": [
    "day11_test = Day11('data/test.txt')\n",
    "day11_test.blink_x_times(25)"
   ]
  },
  {
   "cell_type": "code",
   "execution_count": 129,
   "metadata": {},
   "outputs": [
    {
     "data": {
      "text/plain": [
       "217812"
      ]
     },
     "execution_count": 129,
     "metadata": {},
     "output_type": "execute_result"
    }
   ],
   "source": [
    "day11 = Day11('data/input.txt')\n",
    "day11.blink_x_times(25)"
   ]
  },
  {
   "cell_type": "code",
   "execution_count": 130,
   "metadata": {},
   "outputs": [
    {
     "data": {
      "text/plain": [
       "259112729857522"
      ]
     },
     "execution_count": 130,
     "metadata": {},
     "output_type": "execute_result"
    }
   ],
   "source": [
    "day11 = Day11('data/input.txt')\n",
    "day11.blink_x_times(75)"
   ]
  }
 ],
 "metadata": {
  "kernelspec": {
   "display_name": "Python 3",
   "language": "python",
   "name": "python3"
  },
  "language_info": {
   "codemirror_mode": {
    "name": "ipython",
    "version": 3
   },
   "file_extension": ".py",
   "mimetype": "text/x-python",
   "name": "python",
   "nbconvert_exporter": "python",
   "pygments_lexer": "ipython3",
   "version": "3.9.6"
  }
 },
 "nbformat": 4,
 "nbformat_minor": 2
}
