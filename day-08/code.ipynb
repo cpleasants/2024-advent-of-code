{
 "cells": [
  {
   "cell_type": "code",
   "execution_count": 147,
   "metadata": {},
   "outputs": [],
   "source": [
    "def gcd(a, b):\n",
    "    (larger, smaller) = (abs(b), abs(a)) if b > a else (abs(a), abs(b))\n",
    "    if smaller == 0:\n",
    "        return b\n",
    "    remainder = larger % smaller\n",
    "    if remainder == 0:\n",
    "        return smaller\n",
    "    else:\n",
    "        return gcd(smaller, remainder)\n",
    "\n",
    "def get_distance(loc1, loc2):\n",
    "    return (loc2[0] - loc1[0], loc2[1] - loc1[1])\n",
    "\n",
    "def add_distance(loc, distance):\n",
    "    return (loc[0] + distance[0], loc[1] + distance[1])\n",
    "\n",
    "class Day08:\n",
    "    def __init__(self, fname):\n",
    "        with open(fname) as f:\n",
    "            self.input = [list(line.strip()) for line in f]\n",
    "        self.find_antennas()\n",
    "        self.dimensions = (len(self.input), len(self.input[0]))\n",
    "    \n",
    "    def find_antennas(self):\n",
    "        antennas = {}\n",
    "        for i, row in enumerate(self.input):\n",
    "            for j, item in enumerate(row):\n",
    "                if item == '.':\n",
    "                    continue\n",
    "                if item not in antennas:\n",
    "                    antennas[item] = [(i, j)]\n",
    "                else:\n",
    "                    antennas[item] += [(i, j)]\n",
    "        self.antennas = antennas\n",
    "\n",
    "    def find_antinodes(self, antenna:str):\n",
    "        antinodes = []\n",
    "        for loc1 in self.antennas[antenna]:\n",
    "            for loc2 in self.antennas[antenna]:\n",
    "                dist = get_distance(loc1, loc2)\n",
    "                if dist == (0,0):\n",
    "                    continue\n",
    "                antinode_loc = add_distance(loc2, dist)\n",
    "                if antinode_loc[0] < self.dimensions[0] and antinode_loc[1] < self.dimensions[1] and antinode_loc[0] >= 0 and antinode_loc[1] >=0:\n",
    "                    antinodes.append(antinode_loc)\n",
    "        return antinodes\n",
    "    \n",
    "    def find_more_antinodes(self, antenna:str):\n",
    "        antinodes = []\n",
    "        for loc1 in self.antennas[antenna]:\n",
    "            for loc2 in self.antennas[antenna]:\n",
    "                # if there are two antennas of the same type, they are both also antinodes\n",
    "                antinodes.append(loc2)\n",
    "                dist = get_distance(loc1, loc2)\n",
    "                if dist == (0,0):\n",
    "                    continue\n",
    "                divide_by = gcd(dist[0], dist[1])\n",
    "                reduced_dist = (dist[0] / divide_by, dist[1] / divide_by)\n",
    "                antinode_loc = add_distance(loc2, reduced_dist)\n",
    "                while antinode_loc[0] < self.dimensions[0] and antinode_loc[1] < self.dimensions[1] and antinode_loc[0] >= 0 and antinode_loc[1] >=0:\n",
    "                    antinodes.append(antinode_loc)\n",
    "                    antinode_loc = add_distance(antinode_loc, reduced_dist)\n",
    "        return antinodes\n",
    "\n",
    "\n",
    "    def find_all_antinodes(self, more_nodes = False):\n",
    "        all_antinodes = set()\n",
    "        for antenna in self.antennas:\n",
    "            these_antinodes = self.find_more_antinodes(antenna) if more_nodes else self.find_antinodes(antenna)\n",
    "            all_antinodes.update(set(these_antinodes))\n",
    "        self.all_antinodes = all_antinodes\n",
    "        return len(all_antinodes)"
   ]
  },
  {
   "cell_type": "code",
   "execution_count": 148,
   "metadata": {},
   "outputs": [
    {
     "name": "stdout",
     "output_type": "stream",
     "text": [
      "14\n",
      "34\n"
     ]
    }
   ],
   "source": [
    "day08_test = Day08('data/test.txt')\n",
    "print(day08_test.find_all_antinodes())\n",
    "print(day08_test.find_all_antinodes(more_nodes = True))"
   ]
  },
  {
   "cell_type": "code",
   "execution_count": 149,
   "metadata": {},
   "outputs": [
    {
     "name": "stdout",
     "output_type": "stream",
     "text": [
      "423\n",
      "1287\n"
     ]
    }
   ],
   "source": [
    "day08 = Day08('data/input.txt')\n",
    "print(day08.find_all_antinodes())\n",
    "print(day08.find_all_antinodes(more_nodes = True))"
   ]
  }
 ],
 "metadata": {
  "kernelspec": {
   "display_name": "Python 3",
   "language": "python",
   "name": "python3"
  },
  "language_info": {
   "codemirror_mode": {
    "name": "ipython",
    "version": 3
   },
   "file_extension": ".py",
   "mimetype": "text/x-python",
   "name": "python",
   "nbconvert_exporter": "python",
   "pygments_lexer": "ipython3",
   "version": "3.9.6"
  }
 },
 "nbformat": 4,
 "nbformat_minor": 2
}
