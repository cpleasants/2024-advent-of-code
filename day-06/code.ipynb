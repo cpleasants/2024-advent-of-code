{
 "cells": [
  {
   "cell_type": "code",
   "execution_count": 141,
   "metadata": {},
   "outputs": [],
   "source": [
    "from copy import deepcopy"
   ]
  },
  {
   "cell_type": "code",
   "execution_count": null,
   "metadata": {},
   "outputs": [
    {
     "name": "stdout",
     "output_type": "stream",
     "text": [
      "hello\n",
      "0.0005347728729248047\n"
     ]
    }
   ],
   "source": [
    "import time\n",
    "\n",
    "start = time.time()\n",
    "print(\"hello\")\n",
    "end = time.time()\n",
    "print(end - start)"
   ]
  },
  {
   "cell_type": "code",
   "execution_count": 341,
   "metadata": {},
   "outputs": [],
   "source": [
    "def move(current_position:list, direction:str):\n",
    "    if direction == \"UP\":\n",
    "        current_position[0] -= 1\n",
    "    elif direction == \"DOWN\":\n",
    "        current_position[0] += 1\n",
    "    elif direction == \"RIGHT\":\n",
    "        current_position[1] += 1\n",
    "    elif direction == \"LEFT\":\n",
    "        current_position[1] -= 1\n",
    "    else:\n",
    "        raise ValueError\n",
    "    return current_position\n",
    "\n",
    "rotate = {\n",
    "    \"UP\" : \"RIGHT\",\n",
    "    \"DOWN\" : \"LEFT\",\n",
    "    \"RIGHT\" : \"DOWN\",\n",
    "    \"LEFT\" : \"UP\"\n",
    "}\n",
    "\n",
    "# def rotate(current_direction:str):\n",
    "#     if current_direction == \"UP\":\n",
    "#         return \"RIGHT\"\n",
    "#     elif current_direction == \"DOWN\":\n",
    "#         return \"LEFT\"\n",
    "#     elif current_direction == \"RIGHT\":\n",
    "#         return \"DOWN\"\n",
    "#     elif current_direction == \"LEFT\":\n",
    "#         return \"UP\"\n",
    "#     else:\n",
    "#         raise ValueError\n",
    "\n",
    "class Day06:\n",
    "    def __init__(self, fname):\n",
    "        with open(fname) as f:\n",
    "            self.map = []\n",
    "            for line in f:\n",
    "                self.map.append(list(line.strip()))\n",
    "        self.original_map = deepcopy(self.map)\n",
    "        self.interpret_map()\n",
    "        self.walk_map()\n",
    "\n",
    "    def interpret_map(self):\n",
    "        self.map_dimensions = (len(self.original_map), len(self.original_map[0]))\n",
    "        self.obstacles = set()\n",
    "        self.start_position = None\n",
    "        self.start_direction = \"\"\n",
    "        directions = {'^':\"UP\", '<':\"LEFT\", '>':\"RIGHT\", 'v':\"DOWN\"}\n",
    "        for i, row in enumerate(self.original_map):\n",
    "            for j, item in enumerate(row):\n",
    "                if item == '#':\n",
    "                    self.obstacles.add((i, j))\n",
    "                elif item in ['^', '<', '>', 'v']:\n",
    "                    self.start_position = [i, j]\n",
    "                    self.start_direction = directions[item]\n",
    "\n",
    "    def walk_map(self):\n",
    "        # start = time.time()\n",
    "        self.path = set()\n",
    "        position = tuple(self.start_position)\n",
    "        direction = self.start_direction\n",
    "        ctr = 0\n",
    "        while position[0] >= 0 and position[1] >= 0 and position[0] < self.map_dimensions[0] and position[1] < self.map_dimensions[1]:\n",
    "            if (tuple(position), direction) in self.path:\n",
    "                return \"Infinite\"\n",
    "            pre_position = position\n",
    "            pre_direction = direction\n",
    "            position = move(list(pre_position), direction)\n",
    "            if tuple(position) in self.obstacles:\n",
    "                direction = rotate[direction]\n",
    "                position = move(list(pre_position), direction)\n",
    "            if tuple(position) in self.obstacles:\n",
    "                direction = rotate[direction]\n",
    "                position = move(list(pre_position), direction)\n",
    "            if tuple(position) in self.obstacles:\n",
    "                direction = rotate[direction]\n",
    "                position = move(list(pre_position), direction)\n",
    "            self.path.add(tuple([tuple(pre_position), pre_direction]))\n",
    "            ctr += 1\n",
    "        # end = time.time()\n",
    "        # print(end - start)\n",
    "\n",
    "    def count_positions(self):\n",
    "        positions = set(p[0] for p in self.path )\n",
    "        return len(positions)\n",
    "    \n",
    "    def add_obstacle(self, new_obstacle_position:list):\n",
    "        self.map = deepcopy(self.original_map)\n",
    "        self.obstacles.add(tuple(new_obstacle_position))\n",
    "        walk = self.walk_map()\n",
    "        self.obstacles.remove(tuple(new_obstacle_position))\n",
    "        return walk\n",
    "\n",
    "    def try_obstacles(self):\n",
    "        ctr = 0\n",
    "        for i, row in enumerate(self.original_map):\n",
    "            # print(i)\n",
    "            for j, item in enumerate(row):\n",
    "                if item == '.':\n",
    "                    if self.add_obstacle([i,j]) == 'Infinite':\n",
    "                        ctr +=1\n",
    "        return ctr\n",
    "\n",
    "        \n"
   ]
  },
  {
   "cell_type": "code",
   "execution_count": 342,
   "metadata": {},
   "outputs": [
    {
     "data": {
      "text/plain": [
       "41"
      ]
     },
     "execution_count": 342,
     "metadata": {},
     "output_type": "execute_result"
    }
   ],
   "source": [
    "day06_test = Day06('data/test.txt')\n",
    "day06_test.count_positions()"
   ]
  },
  {
   "cell_type": "code",
   "execution_count": 343,
   "metadata": {},
   "outputs": [
    {
     "data": {
      "text/plain": [
       "6"
      ]
     },
     "execution_count": 343,
     "metadata": {},
     "output_type": "execute_result"
    }
   ],
   "source": [
    "day06_test.try_obstacles()"
   ]
  },
  {
   "cell_type": "code",
   "execution_count": 344,
   "metadata": {},
   "outputs": [
    {
     "data": {
      "text/plain": [
       "4964"
      ]
     },
     "execution_count": 344,
     "metadata": {},
     "output_type": "execute_result"
    }
   ],
   "source": [
    "day06 = Day06('data/input.txt')\n",
    "day06.count_positions()"
   ]
  },
  {
   "cell_type": "code",
   "execution_count": 345,
   "metadata": {},
   "outputs": [
    {
     "data": {
      "text/plain": [
       "1740"
      ]
     },
     "execution_count": 345,
     "metadata": {},
     "output_type": "execute_result"
    }
   ],
   "source": [
    "day06.try_obstacles()"
   ]
  },
  {
   "cell_type": "code",
   "execution_count": null,
   "metadata": {},
   "outputs": [],
   "source": []
  }
 ],
 "metadata": {
  "kernelspec": {
   "display_name": "Python 3",
   "language": "python",
   "name": "python3"
  },
  "language_info": {
   "codemirror_mode": {
    "name": "ipython",
    "version": 3
   },
   "file_extension": ".py",
   "mimetype": "text/x-python",
   "name": "python",
   "nbconvert_exporter": "python",
   "pygments_lexer": "ipython3",
   "version": "3.9.6"
  }
 },
 "nbformat": 4,
 "nbformat_minor": 2
}
