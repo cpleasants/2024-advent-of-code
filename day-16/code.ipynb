{
 "cells": [
  {
   "cell_type": "code",
   "execution_count": 1,
   "metadata": {},
   "outputs": [],
   "source": [
    "import numpy as np\n",
    "from collections import defaultdict\n",
    "import heapq"
   ]
  },
  {
   "cell_type": "code",
   "execution_count": 343,
   "metadata": {},
   "outputs": [],
   "source": [
    "class Day16:\n",
    "    def __init__(self, fname):\n",
    "        with open(fname) as f:\n",
    "            self.input = np.array([[item for item in line.strip()] for line in f.readlines()])\n",
    "        mapping = {'E': 1, 'S': 1, '.': 1, '#' : 0}\n",
    "        self.maze = np.array([[mapping[elem] for elem in row] for row in self.input])\n",
    "        self.find_start_finish()\n",
    "        self.optimal_cost, self.optimal_paths = self.dijkstra()\n",
    "\n",
    "    def find_start_finish(self):\n",
    "        for i, row in enumerate(self.input):\n",
    "            for j, item in enumerate(row):\n",
    "                if item == 'E':\n",
    "                    self.dest = tuple([i, j])\n",
    "                elif item == 'S':\n",
    "                    self.src = tuple([i,j])\n",
    "        \n",
    "\n",
    "    def is_within_bounds(self, point):\n",
    "        row, col = point\n",
    "        num_rows, num_cols = self.input.shape\n",
    "        return 0 <= row < num_rows and 0 <= col < num_cols\n",
    "\n",
    "\n",
    "    def categorize_point(self, point):\n",
    "        up = point + np.array([-1, 0])\n",
    "        can_go_up = self.is_within_bounds(up) and self.input[tuple(up)] == '.'\n",
    "        down = point + np.array([1, 0])\n",
    "        can_go_down = self.is_within_bounds(down) and self.input[tuple(down)] == '.'\n",
    "        right = point + np.array([0, 1])\n",
    "        can_go_right = self.is_within_bounds(right) and self.input[tuple(right)] == '.'\n",
    "        left = point + np.array([0, -1])\n",
    "        can_go_left = self.is_within_bounds(left) and self.input[tuple(left)] == '.'\n",
    "        if sum([can_go_up, can_go_down, can_go_left, can_go_right]) == 0:\n",
    "            return \"nothing\"\n",
    "        elif sum([can_go_up, can_go_down, can_go_left, can_go_right]) == 1:\n",
    "            return \"dead_end\"\n",
    "        elif (can_go_right | can_go_left) & (can_go_up | can_go_down):\n",
    "            return \"vertex\"\n",
    "        else:\n",
    "            return \"straight\"\n",
    "\n",
    "    def dijkstra(self):\n",
    "        # Directions: right, down, left, up\n",
    "        directions = [(0, 1), (1, 0), (0, -1), (-1, 0)]\n",
    "        rows, cols = len(self.maze), len(self.maze[0])\n",
    "        \n",
    "        # Priority queue: (cost, x, y, direction)\n",
    "        pq = []\n",
    "        heapq.heappush(pq, (0, self.src[0], self.src[1], 0, [self.src]))  # 0 indicates starting going east\n",
    "        \n",
    "        # Visited dictionary to track minimum costs: (x, y, direction) -> cost\n",
    "        visited = {}\n",
    "        optimal_paths = []\n",
    "        optimal_cost = np.inf\n",
    "        \n",
    "        while pq:\n",
    "            cost, x, y, prev_dir, path = heapq.heappop(pq)\n",
    "            \n",
    "            # If we reached the end position\n",
    "            if (x, y) == self.dest:\n",
    "                if cost == optimal_cost:\n",
    "                    optimal_paths.append(path)\n",
    "                elif cost < optimal_cost:\n",
    "                    optimal_cost = cost\n",
    "                    optimal_paths = [path]\n",
    "                continue\n",
    "            \n",
    "            # Skip if we've already visited with a lower cost\n",
    "            if (x, y, prev_dir) in visited:\n",
    "                if cost > min(visited[(x, y, prev_dir)]):\n",
    "                    continue\n",
    "            else:\n",
    "                visited[(x, y, prev_dir)] = {}\n",
    "                visited[(x, y, prev_dir)][cost] = []\n",
    "                visited[(x, y, prev_dir)][cost].append(path)\n",
    "            \n",
    "            # Explore neighbors\n",
    "            for d, (dx, dy) in enumerate(directions):\n",
    "                nx, ny = x + dx, y + dy\n",
    "                \n",
    "                # Check bounds\n",
    "                if 0 <= nx < rows and 0 <= ny < cols:\n",
    "                    move_cost = self.maze[nx][ny]\n",
    "                    if move_cost == 0:  # 0 indicates an obstacle\n",
    "                        continue\n",
    "                    \n",
    "                    # Calculate new cost\n",
    "                    turn_penalty = 1000 if prev_dir != d else 0\n",
    "                    new_cost = cost + move_cost + turn_penalty\n",
    "                    new_path = path + [(nx, ny)]\n",
    "                    \n",
    "                    heapq.heappush(pq, (new_cost, nx, ny, d, new_path))\n",
    "        \n",
    "        return optimal_cost, optimal_paths  # Return -1 if no path is found\n",
    "\n",
    "    def solve(self):\n",
    "        optimal_spots = set()\n",
    "        for path in self.optimal_paths:\n",
    "            optimal_spots.update(set(path))\n",
    "        return self.optimal_cost, len(optimal_spots)\n",
    "        "
   ]
  },
  {
   "cell_type": "code",
   "execution_count": 344,
   "metadata": {},
   "outputs": [
    {
     "data": {
      "text/plain": [
       "(7036, 45)"
      ]
     },
     "execution_count": 344,
     "metadata": {},
     "output_type": "execute_result"
    }
   ],
   "source": [
    "Day16('data/test.txt').solve()"
   ]
  },
  {
   "cell_type": "code",
   "execution_count": 345,
   "metadata": {},
   "outputs": [
    {
     "data": {
      "text/plain": [
       "(11048, 64)"
      ]
     },
     "execution_count": 345,
     "metadata": {},
     "output_type": "execute_result"
    }
   ],
   "source": [
    "\n",
    "Day16('data/test2.txt').solve()"
   ]
  },
  {
   "cell_type": "code",
   "execution_count": 346,
   "metadata": {},
   "outputs": [
    {
     "data": {
      "text/plain": [
       "(4013, 14)"
      ]
     },
     "execution_count": 346,
     "metadata": {},
     "output_type": "execute_result"
    }
   ],
   "source": [
    "Day16('data/test3.txt').solve()"
   ]
  },
  {
   "cell_type": "code",
   "execution_count": 347,
   "metadata": {},
   "outputs": [
    {
     "data": {
      "text/plain": [
       "(102504, 535)"
      ]
     },
     "execution_count": 347,
     "metadata": {},
     "output_type": "execute_result"
    }
   ],
   "source": [
    "Day16('data/input.txt').solve()"
   ]
  }
 ],
 "metadata": {
  "kernelspec": {
   "display_name": "base",
   "language": "python",
   "name": "python3"
  },
  "language_info": {
   "codemirror_mode": {
    "name": "ipython",
    "version": 3
   },
   "file_extension": ".py",
   "mimetype": "text/x-python",
   "name": "python",
   "nbconvert_exporter": "python",
   "pygments_lexer": "ipython3",
   "version": "3.8.8"
  }
 },
 "nbformat": 4,
 "nbformat_minor": 2
}
