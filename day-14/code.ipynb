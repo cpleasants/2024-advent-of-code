{
 "cells": [
  {
   "cell_type": "code",
   "execution_count": 30,
   "metadata": {},
   "outputs": [],
   "source": [
    "from copy import deepcopy\n",
    "import numpy as np\n",
    "from collections import defaultdict"
   ]
  },
  {
   "cell_type": "code",
   "execution_count": null,
   "metadata": {},
   "outputs": [],
   "source": [
    "class Day14:\n",
    "    def __init__(self, fname, test = False):\n",
    "        with open(fname) as f:\n",
    "            input = []\n",
    "            for line in f.readlines():\n",
    "                di = {}\n",
    "                l = line.strip()\n",
    "                p, v = l.split(' ')\n",
    "                p_x, p_y = p[2:].split(',')\n",
    "                v_x, v_y = v[2:].split(',')\n",
    "                di['p'] = np.array([int(p_x), int(p_y)])\n",
    "                di['v'] = np.array([int(v_x), int(v_y)])\n",
    "                input.append(di)\n",
    "        self.input = input\n",
    "        self.current_position = [di['p'] for di in input]\n",
    "        self.min = np.array([0,0])\n",
    "        self.test = test\n",
    "        if test:\n",
    "            self.dimensions = np.array([11, 7])\n",
    "\n",
    "        else:\n",
    "            self.dimensions = np.array([101, 103])\n",
    "\n",
    "    def teleport(self, position):\n",
    "        x, y = position\n",
    "        if x < 0:\n",
    "            x += self.dimensions[0]\n",
    "            return self.teleport(np.array([x,y]))\n",
    "        elif x >= self.dimensions[0]:\n",
    "            x -= self.dimensions[0]\n",
    "            return self.teleport(np.array([x,y]))\n",
    "        elif y < 0:\n",
    "            y += self.dimensions[1]\n",
    "            return self.teleport(np.array([x,y]))\n",
    "        elif y >= self.dimensions[1]:\n",
    "            y -= self.dimensions[1]\n",
    "            return self.teleport(np.array([x,y]))\n",
    "        else:\n",
    "            return np.array([x, y])\n",
    "\n",
    "    def move_x_seconds(self, num_seconds):\n",
    "        for i, position in enumerate(self.current_position):\n",
    "            new_position = position + self.input[i]['v'] * num_seconds\n",
    "            if np.any(new_position < self.min) or np.any(new_position >= self.dimensions):\n",
    "                new_position = self.teleport(new_position)\n",
    "            self.current_position[i] = new_position\n",
    "    \n",
    "    def get_quadrants(self, position):\n",
    "        boundaries = (self.dimensions - 1) / 2\n",
    "        x, y = position\n",
    "        x_bound, y_bound = boundaries\n",
    "        \n",
    "        if x < x_bound and y < y_bound:\n",
    "            return \"A\"\n",
    "        elif x < x_bound and y > y_bound:\n",
    "            return \"B\"\n",
    "        elif x > x_bound and y < y_bound:\n",
    "            return \"C\"\n",
    "        elif x > x_bound and y > y_bound:\n",
    "            return \"D\"\n",
    "    \n",
    "    def solve(self):\n",
    "        self.move_x_seconds(100)\n",
    "        quadrants = defaultdict(int)\n",
    "        for position in self.current_position:\n",
    "            quadrant = self.get_quadrants(position)\n",
    "            if quadrant:\n",
    "                quadrants[quadrant] += 1\n",
    "        return np.prod(np.array(list(quadrants.values())))\n",
    "\n",
    "    def solve2(self):\n",
    "        self.current_position = [di['p'] for di in self.input]\n",
    "        # A pattern seemed to form at 24, 61, 127, 162, 230, 263 suggesting every 24 + 103x and 61 + 101x there's a pattern.\n",
    "        self.move_x_seconds(62)\n",
    "        for x in range(1,100):\n",
    "            self.move_x_seconds(101)\n",
    "            t = np.tile('.', self.dimensions)\n",
    "            for position in self.current_position:\n",
    "                t[position[0]][position[1]] = 'X'\n",
    "            np.savetxt('output/' + str(62 + 101*x) + '.txt', t, fmt=\"%s\", delimiter=\"\")\n",
    "                \n"
   ]
  },
  {
   "cell_type": "code",
   "execution_count": 334,
   "metadata": {},
   "outputs": [
    {
     "data": {
      "text/plain": [
       "12"
      ]
     },
     "execution_count": 334,
     "metadata": {},
     "output_type": "execute_result"
    }
   ],
   "source": [
    "day14_test = Day14('data/test.txt', test = True)\n",
    "day14_test.solve()"
   ]
  },
  {
   "cell_type": "code",
   "execution_count": null,
   "metadata": {},
   "outputs": [
    {
     "name": "stdout",
     "output_type": "stream",
     "text": [
      "229980828\n"
     ]
    }
   ],
   "source": [
    "day14 = Day14('data/input.txt')\n",
    "print(day14.solve())\n",
    "day14.solve2()"
   ]
  }
 ],
 "metadata": {
  "kernelspec": {
   "display_name": "base",
   "language": "python",
   "name": "python3"
  },
  "language_info": {
   "codemirror_mode": {
    "name": "ipython",
    "version": 3
   },
   "file_extension": ".py",
   "mimetype": "text/x-python",
   "name": "python",
   "nbconvert_exporter": "python",
   "pygments_lexer": "ipython3",
   "version": "3.8.8"
  }
 },
 "nbformat": 4,
 "nbformat_minor": 2
}
