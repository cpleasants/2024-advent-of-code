{
 "cells": [
  {
   "cell_type": "code",
   "execution_count": null,
   "metadata": {},
   "outputs": [],
   "source": [
    "def expand_basic(num: int):\n",
    "    current_list = [[]]\n",
    "    for i in range(num):\n",
    "        new_list = []\n",
    "        for item in current_list:\n",
    "            new_list.append(item + [\"+\"])\n",
    "            new_list.append(item + [\"*\"])\n",
    "        current_list = new_list\n",
    "    return current_list\n",
    "\n",
    "def expand_all_extra(num: int):\n",
    "    current_list = [[]]\n",
    "    for i in range(num):\n",
    "        new_list = []\n",
    "        for item in current_list:\n",
    "            new_list.append(item + [\"+\"])\n",
    "            new_list.append(item + [\"*\"])\n",
    "            new_list.append(item + [\"||\"])\n",
    "        current_list = new_list\n",
    "    return current_list\n",
    "\n",
    "def try_one(comparison_number, numbers, operations):\n",
    "    total = numbers[0]\n",
    "    for i, operation in enumerate(operations):\n",
    "        if operation == '+':\n",
    "            total += numbers[i+1]\n",
    "        elif operation == '*':\n",
    "            total *= numbers[i+1]\n",
    "        elif operation == \"||\":\n",
    "            total = int(str(total) + str(numbers[i+1]))\n",
    "        if total > comparison_number:\n",
    "            break\n",
    "    return total\n",
    "\n",
    "def try_set(comparison_number, numbers, basic = True):\n",
    "    if basic:\n",
    "        operations_list = expand_basic(len(numbers) - 1)\n",
    "    else:\n",
    "        operations_list = expand_all_extra(len(numbers) - 1)\n",
    "    for operations in operations_list:\n",
    "        total = try_one(comparison_number, numbers, operations)\n",
    "        if total == comparison_number:\n",
    "            return True\n",
    "    return False\n",
    "\n",
    "\n",
    "class Day07:\n",
    "    def __init__(self, file_name):\n",
    "        with open(file_name) as f:\n",
    "            inputs = {\n",
    "                int(line.split(':')[0]) : \n",
    "                [int(t) for t in line.split(':')[1].strip().split(' ')] for line in f\n",
    "                }\n",
    "        self.inputs = inputs\n",
    "\n",
    "    def try_all(self, basic = True):\n",
    "        total = 0\n",
    "        for num in self.inputs:\n",
    "            if try_set(num, self.inputs[num], basic):\n",
    "                total += num\n",
    "        return total\n"
   ]
  },
  {
   "cell_type": "code",
   "execution_count": 117,
   "metadata": {},
   "outputs": [
    {
     "name": "stdout",
     "output_type": "stream",
     "text": [
      "3749\n",
      "11387\n"
     ]
    }
   ],
   "source": [
    "day07_test = Day07('data/test.txt')\n",
    "print(day07_test.try_all())\n",
    "print(day07_test.try_all(basic = False))"
   ]
  },
  {
   "cell_type": "code",
   "execution_count": 119,
   "metadata": {},
   "outputs": [
    {
     "name": "stdout",
     "output_type": "stream",
     "text": [
      "882304362421\n",
      "145149066755184\n"
     ]
    }
   ],
   "source": [
    "day07 = Day07('data/input.txt')\n",
    "print(day07.try_all())\n",
    "print(day07.try_all(basic = False))"
   ]
  }
 ],
 "metadata": {
  "kernelspec": {
   "display_name": "Python 3",
   "language": "python",
   "name": "python3"
  },
  "language_info": {
   "codemirror_mode": {
    "name": "ipython",
    "version": 3
   },
   "file_extension": ".py",
   "mimetype": "text/x-python",
   "name": "python",
   "nbconvert_exporter": "python",
   "pygments_lexer": "ipython3",
   "version": "3.9.6"
  }
 },
 "nbformat": 4,
 "nbformat_minor": 2
}
