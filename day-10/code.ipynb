{
 "cells": [
  {
   "cell_type": "code",
   "execution_count": 167,
   "metadata": {},
   "outputs": [],
   "source": [
    "directions = ['up', 'down', 'left', 'right']\n",
    "\n",
    "class Day10:\n",
    "    def __init__(self, fname):\n",
    "        with open(fname) as f:\n",
    "            self.input = [list([int(i) for i in row.strip()]) for row in f.readlines()]\n",
    "        self.dimensions = (len(self.input), len(self.input[0]))\n",
    "        self.all_path_ends = []\n",
    "\n",
    "    def look_around(self, i, j, direction:str):\n",
    "        if direction == \"up\" and 0 <= i + 1 < self.dimensions[0]:\n",
    "            return i + 1, j, self.input[i + 1][j]\n",
    "        elif direction == \"down\" and 0 <= i - 1 < self.dimensions[0]:\n",
    "            return i-1, j, self.input[i - 1][j]\n",
    "        elif direction == \"left\" and 0 <= j + 1 < self.dimensions[1]:\n",
    "            return i, j+1, self.input[i][j + 1]\n",
    "        elif direction == \"right\" and 0 <= j - 1 < self.dimensions[1]:\n",
    "            return i, j-1, self.input[i][j - 1]\n",
    "        else:\n",
    "            return None, None, None\n",
    "\n",
    "    def walk(self, path_ends):\n",
    "        new_path_ends = []\n",
    "        for path_end in path_ends:\n",
    "            (i, j, current_value) = path_end\n",
    "            for direction in directions:\n",
    "                new_i, new_j, new_value = self.look_around(i, j, direction)\n",
    "                if new_value == current_value + 1:\n",
    "                    new_path_ends.append((new_i, new_j, new_value))\n",
    "        return new_path_ends\n",
    "\n",
    "\n",
    "\n",
    "    def walk_path(self, i, j):\n",
    "        path_ends = [(i, j, 0)]\n",
    "        for num in range(1, 10):\n",
    "            path_ends = self.walk(path_ends)\n",
    "        self.all_path_ends += path_ends\n",
    "        return len(set(path_ends))\n",
    "\n",
    "    def walk_all_paths(self):\n",
    "        total = 0\n",
    "        for i, row in enumerate(self.input):\n",
    "            for j, n in enumerate(row):\n",
    "                if n == 0:\n",
    "                    total += self.walk_path(i, j)\n",
    "        return total\n",
    "    \n",
    "    def count_total_ratings(self):\n",
    "        ctr_dict = {}\n",
    "        for path_end in self.all_path_ends:\n",
    "            i, j, _ = path_end\n",
    "            if (i,j) in ctr_dict:\n",
    "                ctr_dict[(i,j)] += 1\n",
    "            else:\n",
    "                ctr_dict[(i,j)] = 1\n",
    "        return sum(ctr_dict.values())"
   ]
  },
  {
   "cell_type": "code",
   "execution_count": 168,
   "metadata": {},
   "outputs": [
    {
     "name": "stdout",
     "output_type": "stream",
     "text": [
      "36\n",
      "81\n"
     ]
    }
   ],
   "source": [
    "day10_test = Day10('data/test.txt')\n",
    "print(day10_test.walk_all_paths())\n",
    "print(day10_test.count_total_ratings())"
   ]
  },
  {
   "cell_type": "code",
   "execution_count": 169,
   "metadata": {},
   "outputs": [
    {
     "name": "stdout",
     "output_type": "stream",
     "text": [
      "746\n",
      "1541\n"
     ]
    }
   ],
   "source": [
    "day10 = Day10('data/input.txt')\n",
    "print(day10.walk_all_paths())\n",
    "print(day10.count_total_ratings())"
   ]
  },
  {
   "cell_type": "code",
   "execution_count": null,
   "metadata": {},
   "outputs": [],
   "source": []
  }
 ],
 "metadata": {
  "kernelspec": {
   "display_name": "Python 3",
   "language": "python",
   "name": "python3"
  },
  "language_info": {
   "codemirror_mode": {
    "name": "ipython",
    "version": 3
   },
   "file_extension": ".py",
   "mimetype": "text/x-python",
   "name": "python",
   "nbconvert_exporter": "python",
   "pygments_lexer": "ipython3",
   "version": "3.9.6"
  }
 },
 "nbformat": 4,
 "nbformat_minor": 2
}
