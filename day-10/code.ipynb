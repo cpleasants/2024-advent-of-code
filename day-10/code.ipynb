{
 "cells": [
  {
   "cell_type": "code",
   "execution_count": null,
   "metadata": {},
   "outputs": [],
   "source": [
    "()"
   ]
  },
  {
   "cell_type": "code",
   "execution_count": null,
   "metadata": {},
   "outputs": [],
   "source": [
    "\n",
    "for i in range(10):\n",
    "    for direction in directions:\n",
    "        this_value = look_around(direction)\n",
    "        if this_value == current_value + 1:\n",
    "            current_value = this_value\n",
    "            continue\n",
    "    if i == 9:\n",
    "        print(\"9!\")"
   ]
  },
  {
   "cell_type": "code",
   "execution_count": null,
   "metadata": {},
   "outputs": [],
   "source": [
    "for i in range(10):\n",
    "    for direction in directions:\n",
    "        this_value = look_around(direction)\n",
    "        if this_value == current_value + 1:\n",
    "            current_value = this_value\n",
    "            continue\n",
    "    if i == 9:\n",
    "        print(\"9!\")\n",
    "for direction in directions:\n",
    "    this_value = look_around(direction)\n",
    "    if this_value == current_value + 1:\n",
    "        current_value = this_value\n",
    "        for direction in directions:\n",
    "            this_value = look_around(direction)\n",
    "            if this_value == current_value + 1:\n",
    "                current_value = this_value\n",
    "                for direction in directions:\n",
    "                    <etc.\n",
    "    else:\n",
    "        continue"
   ]
  },
  {
   "cell_type": "code",
   "execution_count": null,
   "metadata": {},
   "outputs": [],
   "source": [
    "directions = ['up', 'down', 'left', 'right']\n",
    "\n",
    "class Day10:\n",
    "    def __init__(self, fname):\n",
    "        with open(fname) as f:\n",
    "            self.input = [list([int(i) for i in row.strip()]) for row in f.readlines()]\n",
    "        self.dimensions = (len(self.input), len(self.input[0]))\n",
    "\n",
    "    def look_around(self, i, j, direction:str):\n",
    "        if direction == \"up\" and 0 <= i + 1 < self.dimensions[0]:\n",
    "            return i + 1, j, self.input[i + 1][j]\n",
    "        elif direction == \"down\" and 0 <= i - 1 < self.dimensions[0]:\n",
    "            return i-1, j, self.input[i - 1][j]\n",
    "        elif direction == \"left\" and 0 <= j + 1 < self.dimensions[1]:\n",
    "            return i, j+1, self.input[i][j + 1]\n",
    "        elif direction == \"right\" and 0 <= j - 1 < self.dimensions[1]:\n",
    "            return i, j-1, self.input[i][j - 1]\n",
    "        else:\n",
    "            return None, None, None\n",
    "\n",
    "    # def T(self, i, j, ctr = 0):\n",
    "    #     \"\"\"\n",
    "    #     i is the row index\n",
    "    #     j is the column index\n",
    "    #     \"\"\"\n",
    "    #     current_value = self.input[i][j]\n",
    "    #     if self.look_around(i, j, 'up') == current_value + 1:\n",
    "\n",
    "    #     up_i = i + 1\n",
    "    #     down_i = i - 1\n",
    "    #     right_j = j + 1\n",
    "    #     left_j = j - 1\n",
    "    #     if 0 <= i + 1 < self.dimensions[0] and self.input[i + 1][j] == current_value + 1:\n",
    "    #         self.look_around(i + 1, j)\n",
    "    #     else:\n",
    "    #         return\n",
    "    #         # return self.input[i + 1][j]\n",
    "    #     if 0 <= i - 1 < self.dimensions[0] and self.input[i - 1][j] == current_value + 1:\n",
    "    #         self.look_around(i - 1, j)\n",
    "    #         # return self.input[i - 1][j]\n",
    "    #     else:\n",
    "    #         return\n",
    "    #     if 0 <= j + 1 < self.dimensions[1] and self.input[i][j + 1] == current_value + 1:\n",
    "    #         self.look_around(i, j + 1)\n",
    "    #         # return self.input[i][j + 1]\n",
    "    #     else:\n",
    "    #         return\n",
    "    #     if 0 <= j - 1 < self.dimensions[1] and self.input[i][j - 1] == current_value + 1:\n",
    "    #         self.look_around(i, j - 1)\n",
    "    #         # return self.input[i][j - 1]\n",
    "    #     else:\n",
    "    #         return\n",
    "        \n",
    "    def walk(self, i, j):\n",
    "        current_value = 0\n",
    "        for num in range(10):\n",
    "            for direction in directions:\n",
    "                i, j, this_value = self.look_around(i, j, direction)\n",
    "                if this_value == current_value + 1:\n",
    "                    current_value = this_value\n",
    "            if num == 9:\n",
    "                print(\"9!\")\n",
    "                continue\n",
    "\n",
    "\n",
    "    # def walk_paths(self):\n",
    "    #     for i, row in enumerate(self.input):\n",
    "    #         for j, pt in enumerate(row):\n",
    "    #             if pt == 0:\n",
    "    #                 if self.look_around(i, j) == \"Success\":\n"
   ]
  },
  {
   "cell_type": "code",
   "execution_count": 51,
   "metadata": {},
   "outputs": [],
   "source": [
    "day10_test = Day10('data/test.txt')\n",
    "# day10_test.walk_paths()"
   ]
  },
  {
   "cell_type": "code",
   "execution_count": 52,
   "metadata": {},
   "outputs": [
    {
     "name": "stdout",
     "output_type": "stream",
     "text": [
      "9!\n"
     ]
    }
   ],
   "source": [
    "day10_test.walk(0, 2)"
   ]
  },
  {
   "cell_type": "code",
   "execution_count": null,
   "metadata": {},
   "outputs": [],
   "source": []
  }
 ],
 "metadata": {
  "kernelspec": {
   "display_name": "Python 3",
   "language": "python",
   "name": "python3"
  },
  "language_info": {
   "codemirror_mode": {
    "name": "ipython",
    "version": 3
   },
   "file_extension": ".py",
   "mimetype": "text/x-python",
   "name": "python",
   "nbconvert_exporter": "python",
   "pygments_lexer": "ipython3",
   "version": "3.9.6"
  }
 },
 "nbformat": 4,
 "nbformat_minor": 2
}
