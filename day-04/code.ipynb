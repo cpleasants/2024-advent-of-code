{
 "cells": [
  {
   "cell_type": "code",
   "execution_count": 12,
   "metadata": {},
   "outputs": [
    {
     "ename": "ModuleNotFoundError",
     "evalue": "No module named 'pandas'",
     "output_type": "error",
     "traceback": [
      "\u001b[0;31m---------------------------------------------------------------------------\u001b[0m",
      "\u001b[0;31mModuleNotFoundError\u001b[0m                       Traceback (most recent call last)",
      "Cell \u001b[0;32mIn[12], line 1\u001b[0m\n\u001b[0;32m----> 1\u001b[0m \u001b[38;5;28;01mimport\u001b[39;00m \u001b[38;5;21;01mpandas\u001b[39;00m \u001b[38;5;28;01mas\u001b[39;00m \u001b[38;5;21;01mpd\u001b[39;00m\n",
      "\u001b[0;31mModuleNotFoundError\u001b[0m: No module named 'pandas'"
     ]
    }
   ],
   "source": [
    "import pandas as pd"
   ]
  },
  {
   "cell_type": "code",
   "execution_count": null,
   "metadata": {},
   "outputs": [],
   "source": [
    "class Day04:\n",
    "    def __init__(self, fname):\n",
    "        with open(fname) as f:\n",
    "            data = f.readlines()\n",
    "            self.data = [list(d.strip()) for d in data]\n",
    "    \n",
    "    def count_xmas_matches(self):\n",
    "        matches = 0\n",
    "        for i in range(len(self.data)):\n",
    "            for j in range(len(self.data[i])):\n",
    "                if self.data[i][j] == 'X':\n",
    "                    if i - 1 >= 0 and self.data[i - 1][j] == 'M':\n",
    "                        if i - 2 >= 0 and self.data[i - 2][j] == 'A':\n",
    "                            if i - 3 >= 0 and self.data[i - 3][j] == 'S':\n",
    "                                # print('UP')\n",
    "                                matches += 1\n",
    "                    if i + 1 < len(self.data) and self.data[i + 1][j] == 'M':\n",
    "                        if i + 2 < len(self.data) and self.data[i + 2][j] == 'A':\n",
    "                            if i + 3 < len(self.data) and self.data[i + 3][j] == 'S':\n",
    "                                # print('DOWN')\n",
    "                                matches += 1\n",
    "                    if j - 1 >= 0 and self.data[i][j - 1] == 'M':\n",
    "                        if j - 2 >= 0 and self.data[i][j - 2] == 'A':\n",
    "                            if j - 3 >= 0 and self.data[i][j - 3] == 'S':\n",
    "                                # print(\"LEFT\")\n",
    "                                matches += 1\n",
    "                    if j + 1 < len(self.data[i]) and self.data[i][j + 1] == 'M':\n",
    "                        if j + 2 < len(self.data[i]) and self.data[i][j + 2] == 'A':\n",
    "                            if j + 3 < len(self.data[i]) and self.data[i][j + 3] == 'S':\n",
    "                                # print(\"RIGHT\")\n",
    "                                matches += 1\n",
    "                    if i + 1 < len(self.data) and j + 1 < len(self.data[i]) and self.data[i + 1][j + 1] == 'M':\n",
    "                        if i + 2 < len(self.data) and j + 2 < len(self.data[i]) and self.data[i + 2][j + 2] == 'A':\n",
    "                            if i + 3 < len(self.data) and j + 3 < len(self.data[i]) and self.data[i + 3][j + 3] == 'S':\n",
    "                                # print(\"UP-RIGHT DIAGONAL\")\n",
    "                                matches += 1\n",
    "                    if i - 1 >= 0 and j - 1 >= 0 and self.data[i - 1][j - 1] == 'M':\n",
    "                        if i - 2 >= 0 and j - 2 >= 0 and self.data[i - 2][j - 2] == 'A':\n",
    "                            if i - 3 >= 0 and j - 3 >= 0 and self.data[i - 3][j - 3] == 'S':\n",
    "                                # print(\"DOWN-LEFT DIAGONAL\")\n",
    "                                matches += 1\n",
    "                    if i + 1 < len(self.data) and j - 1 >= 0 and self.data[i + 1][j - 1] == 'M':\n",
    "                        if i + 2 < len(self.data) and j - 2 >= 0 and self.data[i + 2][j - 2] == 'A':\n",
    "                            if i + 3 < len(self.data) and j - 3 >= 0 and self.data[i + 3][j - 3] == 'S':\n",
    "                                # print(\"UP-LEFT DIAGONAL\")\n",
    "                                matches += 1\n",
    "                    if i - 1 >= 0 and j + 1 < len(self.data[i]) and self.data[i - 1][j + 1] == 'M':\n",
    "                        if i - 2 >= 0 and j + 2 < len(self.data[i]) and self.data[i - 2][j + 2] == 'A':\n",
    "                            if i - 3 >= 0 and j + 3 < len(self.data[i]) and self.data[i - 3][j + 3] == 'S':\n",
    "                                # print(\"DOWN-RIGHT DIAGONAL\")\n",
    "                                matches += 1\n",
    "        return matches\n",
    "\n",
    "    def count_masmas_matches(self):\n",
    "        matches = 0\n",
    "        for i in range(len(self.data)):\n",
    "            for j in range(len(self.data[i])):\n",
    "                up_right = self.data[i+1][j+1] if i + 1 < len(self.data) and j + 1 < len(self.data[i])  else None\n",
    "                down_left = self.data[i-1][j-1] if i - 1 >= 0 and j - 1 >= 0 else None\n",
    "                up_left = self.data[i + 1][j - 1] if i + 1 < len(self.data) and j - 1 >= 0 else None\n",
    "                down_right = self.data[i - 1][j + 1] if i - 1 >= 0 and j + 1 < len(self.data[i]) else None\n",
    "                if self.data[i][j] == 'A':\n",
    "                    if (up_right == 'S' and down_left == 'M') | (up_right == 'M' and down_left == 'S'):\n",
    "                        if (up_left == 'S' and down_right == 'M') | (up_left == 'M' and down_right == 'S'):\n",
    "                            matches += 1\n",
    "        return matches\n"
   ]
  },
  {
   "cell_type": "code",
   "execution_count": 41,
   "metadata": {},
   "outputs": [
    {
     "name": "stdout",
     "output_type": "stream",
     "text": [
      "18\n",
      "9\n"
     ]
    }
   ],
   "source": [
    "day04_test = Day04('data/test.txt')\n",
    "print(day04_test.count_xmas_matches())\n",
    "print(day04_test.count_masmas_matches())"
   ]
  },
  {
   "cell_type": "code",
   "execution_count": 42,
   "metadata": {},
   "outputs": [
    {
     "name": "stdout",
     "output_type": "stream",
     "text": [
      "2344\n",
      "1815\n"
     ]
    }
   ],
   "source": [
    "day04 = Day04('data/input.txt')\n",
    "print(day04.count_xmas_matches())\n",
    "print(day04.count_masmas_matches())"
   ]
  },
  {
   "cell_type": "code",
   "execution_count": null,
   "metadata": {},
   "outputs": [
    {
     "data": {
      "text/plain": [
       "(['X', 'M', 'A', 'S'], ['S', 'A', 'M', 'X'])"
      ]
     },
     "execution_count": 11,
     "metadata": {},
     "output_type": "execute_result"
    }
   ],
   "source": [
    "xmas = (['X','M','A','S'], ['S','A','M','X'])\n"
   ]
  },
  {
   "cell_type": "code",
   "execution_count": null,
   "metadata": {},
   "outputs": [
    {
     "name": "stdout",
     "output_type": "stream",
     "text": [
      "1 2\n",
      "2 6\n",
      "2 7\n",
      "3 2\n",
      "3 4\n",
      "7 1\n",
      "7 3\n",
      "7 5\n",
      "7 7\n"
     ]
    },
    {
     "data": {
      "text/plain": [
       "9"
      ]
     },
     "execution_count": 38,
     "metadata": {},
     "output_type": "execute_result"
    }
   ],
   "source": [
    "matches = 0\n",
    "for i in range(len(day04_test.data)):\n",
    "    for j in range(len(day04_test.data[i])):\n",
    "        this = day04_test.data[i][j]\n",
    "        up_right = day04_test.data[i+1][j+1] if i + 1 < len(day04_test.data) and j + 1 < len(day04_test.data[i])  else None\n",
    "        down_left = day04_test.data[i-1][j-1] if i - 1 >= 0 and j - 1 >= 0 else None\n",
    "        up_left = day04_test.data[i + 1][j - 1] if i + 1 < len(day04_test.data) and j - 1 >= 0 else None\n",
    "        down_right = day04_test.data[i - 1][j + 1] if i - 1 >= 0 and j + 1 < len(day04_test.data[i]) else None\n",
    "        if day04_test.data[i][j] == 'A':\n",
    "            if (up_right == 'S' and down_left == 'M') | (up_right == 'M' and down_left == 'S'):\n",
    "                if (up_left == 'S' and down_right == 'M') | (up_left == 'M' and down_right == 'S'):\n",
    "                    matches += 1\n",
    "matches\n"
   ]
  },
  {
   "cell_type": "code",
   "execution_count": null,
   "metadata": {},
   "outputs": [],
   "source": [
    "# If up-left is M and down-right is S\n",
    "# OR up-"
   ]
  },
  {
   "cell_type": "code",
   "execution_count": 16,
   "metadata": {},
   "outputs": [
    {
     "ename": "IndexError",
     "evalue": "list index out of range",
     "output_type": "error",
     "traceback": [
      "\u001b[0;31m---------------------------------------------------------------------------\u001b[0m",
      "\u001b[0;31mIndexError\u001b[0m                                Traceback (most recent call last)",
      "Cell \u001b[0;32mIn[16], line 1\u001b[0m\n\u001b[0;32m----> 1\u001b[0m \u001b[43mday04_test\u001b[49m\u001b[38;5;241;43m.\u001b[39;49m\u001b[43mdata\u001b[49m\u001b[43m[\u001b[49m\u001b[38;5;241;43m-\u001b[39;49m\u001b[38;5;241;43m1\u001b[39;49m\u001b[43m]\u001b[49m\u001b[43m[\u001b[49m\u001b[38;5;241;43m100\u001b[39;49m\u001b[43m]\u001b[49m\n",
      "\u001b[0;31mIndexError\u001b[0m: list index out of range"
     ]
    }
   ],
   "source": [
    "day04_test.data[-1][100]"
   ]
  },
  {
   "cell_type": "code",
   "execution_count": null,
   "metadata": {},
   "outputs": [],
   "source": [
    "0 1 2 3 4\n",
    "0 1 2 3 4\n",
    "0 1 2 3 4"
   ]
  }
 ],
 "metadata": {
  "kernelspec": {
   "display_name": "Python 3",
   "language": "python",
   "name": "python3"
  },
  "language_info": {
   "codemirror_mode": {
    "name": "ipython",
    "version": 3
   },
   "file_extension": ".py",
   "mimetype": "text/x-python",
   "name": "python",
   "nbconvert_exporter": "python",
   "pygments_lexer": "ipython3",
   "version": "3.9.6"
  }
 },
 "nbformat": 4,
 "nbformat_minor": 2
}
