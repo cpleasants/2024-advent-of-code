{
 "cells": [
  {
   "cell_type": "code",
   "execution_count": 2,
   "metadata": {},
   "outputs": [],
   "source": [
    "from copy import deepcopy"
   ]
  },
  {
   "cell_type": "code",
   "execution_count": 3,
   "metadata": {},
   "outputs": [],
   "source": [
    "class Day09:\n",
    "    def __init__(self, fname):\n",
    "        with open(fname) as f:\n",
    "            self.input = list(f.read().strip())\n",
    "        self.expand()\n",
    "        self.rearrange()\n",
    "        self.calc_checksum()\n",
    "\n",
    "    def expand(self):\n",
    "        expanded_input = []\n",
    "        ctr = 0\n",
    "        for item in self.input:\n",
    "            if ctr % 2 == 0:\n",
    "                expanded_input += [ctr / 2] * int(item)\n",
    "            else:\n",
    "                expanded_input += ['.'] * int(item)\n",
    "            ctr += 1\n",
    "        self.expanded_input = expanded_input\n",
    "\n",
    "    def remove_end_dots(self):\n",
    "        dots = True if self.expanded_input[-1] == '.' else False\n",
    "        while dots:\n",
    "            self.expanded_input.pop(-1)\n",
    "            dots = True if self.expanded_input[-1] == '.' else False\n",
    "\n",
    "    def rearrange(self):\n",
    "        re_arranged_input = self.expanded_input\n",
    "        self.remove_end_dots()\n",
    "        for i, item in enumerate(re_arranged_input):\n",
    "            if item == '.':\n",
    "                re_arranged_input[i] = re_arranged_input.pop(-1)\n",
    "                self.remove_end_dots()\n",
    "        self.re_arranged_input = re_arranged_input\n",
    "\n",
    "    def calc_checksum(self):\n",
    "        checksum = 0\n",
    "        for i, item in enumerate(self.re_arranged_input):\n",
    "            checksum += i * item\n",
    "        return checksum\n"
   ]
  },
  {
   "cell_type": "code",
   "execution_count": 4,
   "metadata": {},
   "outputs": [
    {
     "data": {
      "text/plain": [
       "1928.0"
      ]
     },
     "execution_count": 4,
     "metadata": {},
     "output_type": "execute_result"
    }
   ],
   "source": [
    "day09_test = Day09('data/test.txt')\n",
    "day09_test.calc_checksum()"
   ]
  },
  {
   "cell_type": "code",
   "execution_count": 5,
   "metadata": {},
   "outputs": [
    {
     "data": {
      "text/plain": [
       "6340197768906.0"
      ]
     },
     "execution_count": 5,
     "metadata": {},
     "output_type": "execute_result"
    }
   ],
   "source": [
    "day09 = Day09('data/input.txt')\n",
    "day09.calc_checksum()"
   ]
  },
  {
   "cell_type": "code",
   "execution_count": 6,
   "metadata": {},
   "outputs": [],
   "source": [
    "clearer_input = []\n",
    "for i, item in enumerate(day09.input):\n",
    "    if int(item) == 0:\n",
    "        continue\n",
    "    if i % 2 == 0:\n",
    "        clearer_input.append({'length': int(item), 'is_mem': True, 'id': i / 2})\n",
    "    else:\n",
    "        clearer_input.append({'length': int(item), 'is_mem': False, 'id': None})"
   ]
  },
  {
   "cell_type": "code",
   "execution_count": 9,
   "metadata": {},
   "outputs": [
    {
     "name": "stdout",
     "output_type": "stream",
     "text": [
      "19000\n",
      "16000\n",
      "14000\n",
      "11000\n",
      "10000\n",
      "9000\n",
      "8000\n",
      "7000\n",
      "6000\n",
      "5000\n",
      "4000\n",
      "3000\n",
      "2000\n",
      "1000\n",
      "0\n"
     ]
    }
   ],
   "source": [
    "rearranged_clearer_input = deepcopy(clearer_input)\n",
    "ctr = len(rearranged_clearer_input) - 1\n",
    "while ctr > 0:\n",
    "    if not rearranged_clearer_input[ctr]['is_mem']:\n",
    "        ctr -= 1\n",
    "        continue\n",
    "    for i, item in enumerate(rearranged_clearer_input):\n",
    "        if ctr <= i:\n",
    "            continue\n",
    "        if item['is_mem']:\n",
    "            continue\n",
    "        diff = item['length'] - rearranged_clearer_input[ctr]['length']\n",
    "        if diff < 0:\n",
    "            continue\n",
    "        rearranged_clearer_input[i] = deepcopy(rearranged_clearer_input[ctr])\n",
    "        rearranged_clearer_input[ctr]['is_mem'] = False\n",
    "        rearranged_clearer_input[ctr]['id'] = None\n",
    "        if diff == 0:\n",
    "            # ctr -= 1\n",
    "            break\n",
    "        elif diff > 0:\n",
    "            rearranged_clearer_input.insert(i + 1, {\n",
    "                'length': diff,\n",
    "                'is_mem': False,\n",
    "                'id': None\n",
    "            })\n",
    "            ctr += 1\n",
    "            break\n",
    "    ctr -= 1\n",
    "    if ctr % 1000 == 0:\n",
    "        print(ctr)\n",
    "    # print(rearranged_clearer_input)\n",
    "    #         ctr -= 1\n",
    "    #         break\n",
    "    #     # print(rearranged_clearer_input)\n",
    "    #     # continue\n",
    "    # ctr -= 1"
   ]
  },
  {
   "cell_type": "code",
   "execution_count": 10,
   "metadata": {},
   "outputs": [],
   "source": [
    "expanded_rearranged_clearer_input = []\n",
    "for item in rearranged_clearer_input:\n",
    "    expanded_rearranged_clearer_input += [item['id']] * item['length']"
   ]
  },
  {
   "cell_type": "code",
   "execution_count": 11,
   "metadata": {},
   "outputs": [
    {
     "data": {
      "text/plain": [
       "6363913128533.0"
      ]
     },
     "execution_count": 11,
     "metadata": {},
     "output_type": "execute_result"
    }
   ],
   "source": [
    "total = 0\n",
    "for i, item in enumerate(expanded_rearranged_clearer_input):\n",
    "    if item:\n",
    "        total += i * item\n",
    "total"
   ]
  },
  {
   "cell_type": "code",
   "execution_count": null,
   "metadata": {},
   "outputs": [],
   "source": []
  }
 ],
 "metadata": {
  "kernelspec": {
   "display_name": "Python 3",
   "language": "python",
   "name": "python3"
  },
  "language_info": {
   "codemirror_mode": {
    "name": "ipython",
    "version": 3
   },
   "file_extension": ".py",
   "mimetype": "text/x-python",
   "name": "python",
   "nbconvert_exporter": "python",
   "pygments_lexer": "ipython3",
   "version": "3.9.6"
  }
 },
 "nbformat": 4,
 "nbformat_minor": 2
}
