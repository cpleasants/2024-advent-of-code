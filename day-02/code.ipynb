{
 "cells": [
  {
   "cell_type": "code",
   "execution_count": 28,
   "metadata": {},
   "outputs": [],
   "source": [
    "# utility\n",
    "def drop_index(li:list, i:int):\n",
    "    return li[:i] + li[i+1:]"
   ]
  },
  {
   "cell_type": "code",
   "execution_count": 74,
   "metadata": {},
   "outputs": [],
   "source": [
    "class Day2:\n",
    "    def __init__(self, fname):\n",
    "        with open(fname) as f:\n",
    "            self.data = [[int(item) for item in line.split(' ')] for line in f]\n",
    "    \n",
    "    def is_safe(self, li:list):\n",
    "        increasing_counter = 0\n",
    "        decreasing_counter = 0\n",
    "        for i in range(1, len(li)):\n",
    "            if 0 < li[i] - li[i-1] <= 3 and decreasing_counter == 0:\n",
    "                increasing_counter += 1\n",
    "                continue\n",
    "            elif -3 <= li[i] - li[i-1] < 0 and increasing_counter == 0:\n",
    "                decreasing_counter += 1\n",
    "                continue\n",
    "            else:\n",
    "                return False\n",
    "        return True\n",
    "    \n",
    "    def count_safe(self):\n",
    "        counter = 0\n",
    "        for sub_li in self.data:\n",
    "            if self.is_safe(sub_li):\n",
    "                counter += 1\n",
    "        return counter\n",
    "    \n",
    "    def is_really_safe(self, li:list):\n",
    "        increasing_counter = 0\n",
    "        decreasing_counter = 0\n",
    "        for i in range(1, len(li)):\n",
    "            if 0 < li[i] - li[i-1] <= 3 and decreasing_counter == 0:\n",
    "                increasing_counter += 1\n",
    "                continue\n",
    "            elif -3 <= li[i] - li[i-1] < 0 and increasing_counter == 0:\n",
    "                decreasing_counter += 1\n",
    "                continue\n",
    "            else:\n",
    "                # Check if removing this item would make the unsafe report safe\n",
    "                if self.is_safe(drop_index(li, i)):\n",
    "                    return True\n",
    "                # Cases where the first needs to be removed to make the report\n",
    "                # safe are not covered in the logic above, so test that as well\n",
    "                elif self.is_safe(drop_index(li, 0)):\n",
    "                    return True\n",
    "                else:\n",
    "                    return False\n",
    "        return True\n",
    "    \n",
    "    def count_really_safe(self):\n",
    "        counter = 0\n",
    "        for sub_li in self.data:\n",
    "            if self.is_really_safe(sub_li):\n",
    "                counter += 1\n",
    "        return counter"
   ]
  },
  {
   "cell_type": "code",
   "execution_count": 75,
   "metadata": {},
   "outputs": [
    {
     "data": {
      "text/plain": [
       "2"
      ]
     },
     "execution_count": 75,
     "metadata": {},
     "output_type": "execute_result"
    }
   ],
   "source": [
    "d2_test = Day2('data/test.txt')\n",
    "d2_test.count_safe()"
   ]
  },
  {
   "cell_type": "code",
   "execution_count": 76,
   "metadata": {},
   "outputs": [
    {
     "data": {
      "text/plain": [
       "670"
      ]
     },
     "execution_count": 76,
     "metadata": {},
     "output_type": "execute_result"
    }
   ],
   "source": [
    "d2 = Day2('data/input.txt')\n",
    "d2.count_safe()"
   ]
  },
  {
   "cell_type": "code",
   "execution_count": 77,
   "metadata": {},
   "outputs": [
    {
     "data": {
      "text/plain": [
       "4"
      ]
     },
     "execution_count": 77,
     "metadata": {},
     "output_type": "execute_result"
    }
   ],
   "source": [
    "d2_test = Day2('data/test.txt')\n",
    "d2_test.count_really_safe()"
   ]
  },
  {
   "cell_type": "code",
   "execution_count": 78,
   "metadata": {},
   "outputs": [
    {
     "data": {
      "text/plain": [
       "700"
      ]
     },
     "execution_count": 78,
     "metadata": {},
     "output_type": "execute_result"
    }
   ],
   "source": [
    "d2 = Day2('data/input.txt')\n",
    "d2.count_really_safe()"
   ]
  }
 ],
 "metadata": {
  "kernelspec": {
   "display_name": "Python 3",
   "language": "python",
   "name": "python3"
  },
  "language_info": {
   "codemirror_mode": {
    "name": "ipython",
    "version": 3
   },
   "file_extension": ".py",
   "mimetype": "text/x-python",
   "name": "python",
   "nbconvert_exporter": "python",
   "pygments_lexer": "ipython3",
   "version": "3.9.6"
  }
 },
 "nbformat": 4,
 "nbformat_minor": 2
}
