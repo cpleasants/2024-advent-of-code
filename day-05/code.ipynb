{
 "cells": [
  {
   "cell_type": "code",
   "execution_count": 134,
   "metadata": {},
   "outputs": [],
   "source": [
    "class Day05:\n",
    "    def __init__(self, fname):\n",
    "        self.pairs = []\n",
    "        self.page_lists = []\n",
    "        with open(fname) as f:\n",
    "            for line in f:\n",
    "                if '|' in line:\n",
    "                    self.pairs.append(line.strip().split(\"|\"))\n",
    "                elif line.strip == '':\n",
    "                    continue\n",
    "                elif ',' in line:\n",
    "                    self.page_lists.append(line.strip().split(\",\"))\n",
    "        self.pairs = [[int(p) for p in pair] for pair in self.pairs]\n",
    "        self.page_lists = [[int(p) for p in page_list] for page_list in self.page_lists]\n",
    "        self.check_orders()\n",
    "        self.reorder()\n",
    "\n",
    "    def check_order(self, li):\n",
    "        # Convert page lists to dict for lower complexity when checking indices\n",
    "        d = {item:i for i, item in enumerate(li)}\n",
    "        # then check\n",
    "        correct = True\n",
    "        for pair in self.pairs:\n",
    "            if pair[0] not in d or pair[1] not in d:\n",
    "                continue\n",
    "            if d[pair[0]] < d[pair[1]]:\n",
    "                continue\n",
    "            else:\n",
    "                correct = False\n",
    "                break\n",
    "        return correct\n",
    "\n",
    "    def check_orders(self):\n",
    "        self.correctly_ordered = []\n",
    "        self.incorrectly_ordered = []\n",
    "        for i, li in enumerate(self.page_lists):\n",
    "            if self.check_order(li):\n",
    "                self.correctly_ordered.append(self.page_lists[i])\n",
    "            else:\n",
    "                self.incorrectly_ordered.append(self.page_lists[i])\n",
    "            \n",
    "\n",
    "    def add_middles(self, correct:bool):\n",
    "        middle_sum = 0\n",
    "        if correct:\n",
    "            for li in self.correctly_ordered:\n",
    "                middle_sum += li[int((len(li) - 1) / 2)]\n",
    "        else:\n",
    "            for li in self.re_ordered:\n",
    "                middle_sum += li[int((len(li) - 1) / 2)]\n",
    "        return middle_sum\n",
    "    \n",
    "    def find_first_violation(self, li):\n",
    "        d = {item:i for i, item in enumerate(li)}\n",
    "        for pair in self.pairs:\n",
    "            if pair[0] not in d or pair[1] not in d:\n",
    "                continue\n",
    "            if d[pair[0]] > d[pair[1]]:\n",
    "                return pair\n",
    "    \n",
    "    def move_violation(self, li, pair_violated):\n",
    "        new_li = li.copy()\n",
    "        new_li.insert(new_li.index(pair_violated[1]), new_li.pop(new_li.index(pair_violated[0])))\n",
    "        return new_li\n",
    "\n",
    "    def reorder(self):\n",
    "        self.re_ordered = []\n",
    "        for i, li in enumerate(self.incorrectly_ordered):\n",
    "            new_li = li.copy()\n",
    "            # TODO: change to a while loop. Never reaches 90.\n",
    "            for j in range(100):\n",
    "                pair_violated = self.find_first_violation(new_li)\n",
    "                new_li = self.move_violation(new_li, pair_violated)\n",
    "                if self.check_order(new_li):\n",
    "                    break\n",
    "                if j > 90:\n",
    "                    print(j)\n",
    "            self.re_ordered.append(new_li)\n"
   ]
  },
  {
   "cell_type": "code",
   "execution_count": 135,
   "metadata": {},
   "outputs": [
    {
     "name": "stdout",
     "output_type": "stream",
     "text": [
      "143\n",
      "123\n"
     ]
    }
   ],
   "source": [
    "day05_test = Day05('data/test.txt')\n",
    "print(day05_test.add_middles(True))\n",
    "print(day05_test.add_middles(False))"
   ]
  },
  {
   "cell_type": "code",
   "execution_count": 136,
   "metadata": {},
   "outputs": [
    {
     "name": "stdout",
     "output_type": "stream",
     "text": [
      "5064\n",
      "5152\n"
     ]
    }
   ],
   "source": [
    "day05 = Day05('data/input.txt')\n",
    "print(day05.add_middles(True))\n",
    "print(day05.add_middles(False))"
   ]
  }
 ],
 "metadata": {
  "kernelspec": {
   "display_name": "Python 3",
   "language": "python",
   "name": "python3"
  },
  "language_info": {
   "codemirror_mode": {
    "name": "ipython",
    "version": 3
   },
   "file_extension": ".py",
   "mimetype": "text/x-python",
   "name": "python",
   "nbconvert_exporter": "python",
   "pygments_lexer": "ipython3",
   "version": "3.9.6"
  }
 },
 "nbformat": 4,
 "nbformat_minor": 2
}
