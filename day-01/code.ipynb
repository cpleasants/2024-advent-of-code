{
 "cells": [
  {
   "cell_type": "code",
   "execution_count": 23,
   "metadata": {},
   "outputs": [],
   "source": [
    "class Day1:\n",
    "    def __init__(self, fname):\n",
    "        with open(fname) as f:\n",
    "            data = f.readlines()\n",
    "        self.l0 = [float(row.strip().split('   ')[0]) for row in data]\n",
    "        self.l1 = [float(row.strip().split('   ')[1]) for row in data]\n",
    "    \n",
    "    def total_distance(self):\n",
    "        out_l = []\n",
    "        for i in range(len(self.l0)):\n",
    "            out_l.append(abs(sorted(self.l1)[i] - sorted(self.l0)[i]))\n",
    "        return sum(out_l)\n",
    "    \n",
    "    def similarity_score(self):\n",
    "        l1_counter = {}\n",
    "        for item in self.l1:\n",
    "            if item in l1_counter:\n",
    "                l1_counter[item] += 1\n",
    "            else:\n",
    "                l1_counter[item] = 1\n",
    "        similarity_score = 0\n",
    "        for item in self.l0:\n",
    "            if item in l1_counter:\n",
    "                similarity_score += item * l1_counter[item]\n",
    "        return similarity_score\n",
    "    "
   ]
  },
  {
   "cell_type": "code",
   "execution_count": 26,
   "metadata": {},
   "outputs": [
    {
     "name": "stdout",
     "output_type": "stream",
     "text": [
      "11.0\n",
      "31.0\n",
      "1341714.0\n",
      "27384707.0\n"
     ]
    }
   ],
   "source": [
    "d1_test = Day1('data/test.txt')\n",
    "print(d1_test.total_distance())\n",
    "print(d1_test.similarity_score())\n",
    "\n",
    "d1 = Day1('data/input.txt')\n",
    "print(d1.total_distance())\n",
    "print(d1.similarity_score())"
   ]
  }
 ],
 "metadata": {
  "kernelspec": {
   "display_name": "Python 3",
   "language": "python",
   "name": "python3"
  },
  "language_info": {
   "codemirror_mode": {
    "name": "ipython",
    "version": 3
   },
   "file_extension": ".py",
   "mimetype": "text/x-python",
   "name": "python",
   "nbconvert_exporter": "python",
   "pygments_lexer": "ipython3",
   "version": "3.9.6"
  }
 },
 "nbformat": 4,
 "nbformat_minor": 2
}
