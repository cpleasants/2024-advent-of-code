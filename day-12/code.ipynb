{
 "cells": [
  {
   "cell_type": "code",
   "execution_count": 1,
   "metadata": {},
   "outputs": [],
   "source": [
    "from copy import deepcopy\n",
    "from collections import defaultdict"
   ]
  },
  {
   "cell_type": "code",
   "execution_count": 116,
   "metadata": {},
   "outputs": [
    {
     "data": {
      "text/plain": [
       "2"
      ]
     },
     "execution_count": 116,
     "metadata": {},
     "output_type": "execute_result"
    }
   ],
   "source": [
    "True + True"
   ]
  },
  {
   "cell_type": "code",
   "execution_count": 367,
   "metadata": {},
   "outputs": [],
   "source": [
    "\n",
    "\n",
    "def is_adjacent(coord1, coord2):\n",
    "    i_diff = abs(coord1[0] - coord2[0])\n",
    "    j_diff = abs(coord1[1] - coord2[1])\n",
    "    return (i_diff == 1 and j_diff == 0) or (i_diff == 0 and j_diff == 1)\n",
    "\n",
    "def look_around(coord):\n",
    "    i = coord[0]\n",
    "    j = coord[1]\n",
    "    return set([\n",
    "        (i + 1, j),\n",
    "        (i - 1, j),\n",
    "        (i, j + 1),\n",
    "        (i, j - 1)\n",
    "    ])\n",
    "\n",
    "def extrapolate_vertices(coord:tuple):\n",
    "    i = coord[0]\n",
    "    j = coord[1]\n",
    "    return [(i, j), (i + 1, j), (i, j + 1), (i + 1, j + 1)]\n",
    "\n",
    "def find_vertices_in_group(group:list):\n",
    "    all_vertices = defaultdict(int)\n",
    "    for item in group:\n",
    "        vertices = extrapolate_vertices(item)\n",
    "        for vertex in vertices:\n",
    "            all_vertices[vertex] += 1\n",
    "    return all_vertices\n",
    "\n",
    "\n",
    "\n",
    "def calc_perimeter(group:list):\n",
    "    total_perimeter = 0\n",
    "    for item in group:\n",
    "        total_surrounding = 0\n",
    "        for other_item in group:\n",
    "            if is_adjacent(item, other_item):\n",
    "                total_surrounding += 1\n",
    "        total_perimeter += (4 - total_surrounding)\n",
    "\n",
    "    return total_perimeter\n",
    "\n",
    "class Day12:\n",
    "    def __init__(self, fname):\n",
    "        with open(fname) as f:\n",
    "            self.input = [[i for i in row.strip()] for row in f.readlines()]\n",
    "        self.dimensions = (len(self.input), len(self.input[0]))\n",
    "        self.create_plant_dict()\n",
    "        self.group_plants()\n",
    "        self.create_plant_vertex_dict()\n",
    "        self.create_corner_dict()\n",
    "        self.exceptions = []\n",
    "        self.calc_all_flats()\n",
    "\n",
    "    def check_edge(self, group):\n",
    "        for coord in group:\n",
    "            if coord[0] == 0 or coord[1] == 0:\n",
    "                return True\n",
    "            if coord[0] >= self.dimensions[0] or coord[1] >= self.dimensions[1]:\n",
    "                return True\n",
    "        return False\n",
    "        \n",
    "    def create_plant_dict(self):\n",
    "        plant_dict = defaultdict(list)\n",
    "        for i, row in enumerate(self.input):\n",
    "            for j, item in enumerate(row):\n",
    "                plant_dict[item].append((i,j))\n",
    "        self.plant_dict = plant_dict\n",
    "\n",
    "    def create_plant_vertex_dict(self):\n",
    "        plant_vertex_dict = dict()\n",
    "        for letter, groups in self.grouped_plants.items():\n",
    "            plant_vertex_dict[letter] = dict()\n",
    "            for starter, group in groups.items():\n",
    "                plant_vertex_dict[letter][starter] = find_vertices_in_group(group)\n",
    "        self.plant_vertex_dict = plant_vertex_dict\n",
    "\n",
    "    def create_corner_dict(self):\n",
    "        corner_vertex_dict = dict()\n",
    "        for letter, groups in self.plant_vertex_dict.items():\n",
    "            corner_vertex_dict[letter] = dict()\n",
    "            for starter, group in groups.items():\n",
    "                corner_vertex_dict[letter][starter] = set(g for g in group if group[g] % 2 == 1)\n",
    "        self.corner_vertex_dict = corner_vertex_dict\n",
    "\n",
    "    def is_exception(self, vertex):\n",
    "        # Find those exceptional cases where the edges of two inner gardens touch on the corner,\n",
    "        # which causes a violation of the rule that 2 items sharing a vertex represents a straigth line\n",
    "        i, j = vertex\n",
    "        up_left = self.input[i-1][j-1] if j-1 >= 0 and i-1 >= 0 else None\n",
    "        up_right = self.input[i][j-1] if j-1 >= 0 and i < self.dimensions[0] else None\n",
    "        down_left = self.input[i-1][j] if i-1 >= 0 and j < self.dimensions[1] else None\n",
    "        down_right = self.input[i][j] if i < self.dimensions[0] and j < self.dimensions[1] else None\n",
    "        if (up_left == down_right) or (up_right == down_left):\n",
    "            return True\n",
    "\n",
    "    def calc_flats(self, all_vertices, letter):\n",
    "        total_corners = 0\n",
    "        for vertex, ct in all_vertices.items():\n",
    "            if ct % 2 == 1:\n",
    "                total_corners += 1\n",
    "            elif ct == 2:\n",
    "                if self.is_exception(vertex):\n",
    "                    total_corners += 2\n",
    "                    self.exceptions.append(vertex)\n",
    "                    self.exceptions.append(letter)\n",
    "        flats = total_corners\n",
    "        return flats\n",
    "\n",
    "    def calc_all_flats(self):\n",
    "        flat_count_dict = dict()\n",
    "        for plant, groups in self.plant_vertex_dict.items():\n",
    "            flat_count_dict[plant] = dict()\n",
    "            for starter, vertices in groups.items():\n",
    "                flat_count_dict[plant][starter] = self.calc_flats(vertices, plant)\n",
    "        self.flat_count_dict = flat_count_dict\n",
    "\n",
    "    def group_plant(self, plant):\n",
    "        remaining_coords = set(self.plant_dict[plant]) # TODO: DO I need this to be a deepcopy?\n",
    "        gardens = defaultdict(list)\n",
    "        while len(remaining_coords) > 0:\n",
    "            starter = list(remaining_coords)[0]\n",
    "            gardens[starter] = [starter]\n",
    "            remaining_coords.remove(starter)\n",
    "            compare_coords = set([starter])\n",
    "            while len(compare_coords) > 0:\n",
    "                coords_to_add = set()\n",
    "                for compare_coord in compare_coords:\n",
    "                    adjacent = look_around(compare_coord)\n",
    "                    coords_to_remove = set()\n",
    "                    for remaining_coord in remaining_coords:\n",
    "                        if remaining_coord in adjacent:\n",
    "                            coords_to_remove.add(remaining_coord)\n",
    "                            coords_to_add.add(remaining_coord)\n",
    "                            gardens[starter] += [remaining_coord]\n",
    "                    remaining_coords -= coords_to_remove\n",
    "                compare_coords = coords_to_add\n",
    "        return gardens\n",
    "    \n",
    "    def group_plants(self):\n",
    "        self.grouped_plants = dict()\n",
    "        for plant in self.plant_dict:\n",
    "            self.grouped_plants[plant] = self.group_plant(plant)\n",
    "\n",
    "    def calculate_total(self, discount = False):\n",
    "        total = 0\n",
    "        for plant, groups in self.grouped_plants.items():\n",
    "            # print(plant)\n",
    "            for starter, group in groups.items():\n",
    "                if not discount:\n",
    "                    perimeter = calc_perimeter(group)\n",
    "                    area = len(group)\n",
    "                    total += perimeter * area\n",
    "                else:\n",
    "                    flats = self.flat_count_dict[plant][starter]\n",
    "                    area = len(group)\n",
    "                    total += flats * area\n",
    "        return total\n",
    "\n",
    "        "
   ]
  },
  {
   "cell_type": "code",
   "execution_count": 368,
   "metadata": {},
   "outputs": [
    {
     "name": "stdout",
     "output_type": "stream",
     "text": [
      "1930\n",
      "1206\n"
     ]
    }
   ],
   "source": [
    "day12_test = Day12('data/test.txt')\n",
    "print(day12_test.calculate_total())\n",
    "print(day12_test.calculate_total(discount = True))"
   ]
  },
  {
   "cell_type": "code",
   "execution_count": 369,
   "metadata": {},
   "outputs": [
    {
     "name": "stdout",
     "output_type": "stream",
     "text": [
      "1363682\n",
      "787680\n"
     ]
    }
   ],
   "source": [
    "day12 = Day12('data/input.txt')\n",
    "print(day12.calculate_total())\n",
    "print(day12.calculate_total(discount = True))"
   ]
  },
  {
   "cell_type": "code",
   "execution_count": null,
   "metadata": {},
   "outputs": [],
   "source": []
  }
 ],
 "metadata": {
  "kernelspec": {
   "display_name": "Python 3",
   "language": "python",
   "name": "python3"
  },
  "language_info": {
   "codemirror_mode": {
    "name": "ipython",
    "version": 3
   },
   "file_extension": ".py",
   "mimetype": "text/x-python",
   "name": "python",
   "nbconvert_exporter": "python",
   "pygments_lexer": "ipython3",
   "version": "3.9.6"
  }
 },
 "nbformat": 4,
 "nbformat_minor": 2
}
